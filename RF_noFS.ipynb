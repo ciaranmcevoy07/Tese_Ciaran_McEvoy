{
 "cells": [
  {
   "cell_type": "code",
   "execution_count": 1,
   "id": "83e93ef7-51ad-4e76-8a2f-399ce5e9d810",
   "metadata": {},
   "outputs": [],
   "source": [
    "import os\n",
    "import copy\n",
    "import time\n",
    "import random\n",
    "import numpy as np\n",
    "import pandas as pd\n",
    "import seaborn as sns\n",
    "import scipy.io\n",
    "import matplotlib.pyplot as plt\n",
    "import glob\n",
    "import re\n",
    "from datetime import datetime\n",
    "from dateutil import parser\n",
    "import dateutil.parser\n",
    "from scipy.io import savemat\n",
    "\n",
    "import numpy as np\n",
    "import scipy.misc\n",
    "import numpy.random as rng\n",
    "from PIL import Image, ImageDraw, ImageFont\n",
    "from sklearn.utils import shuffle\n",
    "import nibabel as nib #reading MR images\n",
    "import math\n",
    "from matplotlib import pyplot as plt"
   ]
  },
  {
   "cell_type": "code",
   "execution_count": 2,
   "id": "a65e96cd-935f-419e-b349-60938acf77be",
   "metadata": {},
   "outputs": [
    {
     "name": "stdout",
     "output_type": "stream",
     "text": [
      "Mean Squared Error: 62044.657536460756\n",
      "\n",
      "Actual vs Predicted:\n",
      "      Actual  Predicted\n",
      "56    2373.0   2162.178\n",
      "194   2448.0   2267.071\n",
      "2225  3353.4   3751.056\n",
      "233   3002.0   2925.155\n",
      "1902  2242.0   2215.246\n",
      "...      ...        ...\n",
      "2296  3878.5   3732.161\n",
      "1127  3006.0   3113.545\n",
      "2456  3541.9   3725.742\n",
      "1915  4280.0   4242.540\n",
      "841   4096.0   4073.743\n",
      "\n",
      "[510 rows x 2 columns]\n"
     ]
    }
   ],
   "source": [
    "from sklearn.ensemble import RandomForestClassifier, RandomForestRegressor\n",
    "from sklearn.model_selection import train_test_split\n",
    "from sklearn.metrics import accuracy_score, mean_squared_error\n",
    "\n",
    "DATASET = 'Dataset_Ciaran_McEvoy.csv'\n",
    "dataset = pd.read_csv(DATASET)\n",
    "\n",
    "dataset.replace('M', 1, inplace=True)\n",
    "dataset.replace('F', 0, inplace=True)\n",
    "X = dataset.drop(columns=['Left-Hippocampus', 'VISCODE','VISCODE2', 'Group', 'MRI_Date', 'Exam_Date'])\n",
    "y = dataset['Left-Hippocampus']\n",
    "\n",
    "X_train, X_test, y_train, y_test = train_test_split(X, y, test_size=0.2, random_state=42)\n",
    "\n",
    "rf_regressor = RandomForestRegressor(n_estimators=100, random_state=42)\n",
    "rf_regressor.fit(X_train, y_train)\n",
    "\n",
    "y_pred = rf_regressor.predict(X_test)\n",
    "\n",
    "mse = mean_squared_error(y_test, y_pred)\n",
    "print(\"Mean Squared Error:\", mse)\n",
    "\n",
    "output_df = pd.DataFrame({'Actual': y_test, 'Predicted': y_pred})\n",
    "print(\"\\nActual vs Predicted:\")\n",
    "print(output_df)"
   ]
  },
  {
   "cell_type": "code",
   "execution_count": 8,
   "id": "3b126d44-2f40-4b98-9bfd-e01af0c30d88",
   "metadata": {},
   "outputs": [
    {
     "name": "stdout",
     "output_type": "stream",
     "text": [
      "Accuracy: 0.6352941176470588\n",
      "\n",
      "Actual vs Predicted:\n",
      "     Actual Predicted\n",
      "56      MCI       MCI\n",
      "194      AD        AD\n",
      "2225     CN        CN\n",
      "233     MCI       MCI\n",
      "1902     AD       MCI\n",
      "...     ...       ...\n",
      "2296     CN        CN\n",
      "1127     AD       MCI\n",
      "2456   LMCI        CN\n",
      "1915     CN       MCI\n",
      "841      CN        CN\n",
      "\n",
      "[510 rows x 2 columns]\n"
     ]
    }
   ],
   "source": [
    "from sklearn.ensemble import RandomForestClassifier, RandomForestRegressor\n",
    "from sklearn.model_selection import train_test_split\n",
    "from sklearn.metrics import accuracy_score, mean_squared_error\n",
    "from sklearn.preprocessing import MinMaxScaler\n",
    "\n",
    "DATASET = 'Dataset_Ciaran_McEvoy.csv'\n",
    "dataset = pd.read_csv(DATASET)\n",
    "\n",
    "dataset.replace('M', 1, inplace=True)\n",
    "dataset.replace('F', 0, inplace=True)\n",
    "X = dataset.drop(columns=['VISCODE','VISCODE2', 'Group', 'MRI_Date', 'Exam_Date'])\n",
    "y = dataset['Group']\n",
    "\n",
    "X_train, X_test, y_train, y_test = train_test_split(X, y, test_size=0.2, random_state=42)\n",
    "\n",
    "rf_classifier = RandomForestClassifier(n_estimators=100, random_state=42)\n",
    "rf_classifier.fit(X_train, y_train)\n",
    "\n",
    "y_pred = rf_classifier.predict(X_test)\n",
    "\n",
    "accuracy = accuracy_score(y_test, y_pred)\n",
    "print(\"Accuracy:\", accuracy)\n",
    "output_df = pd.DataFrame({'Actual': y_test, 'Predicted': y_pred})\n",
    "print(\"\\nActual vs Predicted:\")\n",
    "print(output_df)"
   ]
  },
  {
   "cell_type": "code",
   "execution_count": null,
   "id": "12a70ee8-b225-496d-b3f2-185529f55f32",
   "metadata": {},
   "outputs": [],
   "source": []
  }
 ],
 "metadata": {
  "kernelspec": {
   "display_name": "Python 3 (ipykernel)",
   "language": "python",
   "name": "python3"
  },
  "language_info": {
   "codemirror_mode": {
    "name": "ipython",
    "version": 3
   },
   "file_extension": ".py",
   "mimetype": "text/x-python",
   "name": "python",
   "nbconvert_exporter": "python",
   "pygments_lexer": "ipython3",
   "version": "3.8.16"
  }
 },
 "nbformat": 4,
 "nbformat_minor": 5
}
