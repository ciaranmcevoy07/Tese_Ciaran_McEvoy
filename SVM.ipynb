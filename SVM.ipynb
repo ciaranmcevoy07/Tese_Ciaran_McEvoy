{
 "cells": [
  {
   "cell_type": "code",
   "execution_count": 1,
   "id": "3aa68830-f546-4e2f-b014-52380c5a6876",
   "metadata": {},
   "outputs": [],
   "source": [
    "import os\n",
    "import copy\n",
    "import time\n",
    "import random\n",
    "import numpy as np\n",
    "import pandas as pd\n",
    "import seaborn as sns\n",
    "import scipy.io\n",
    "import matplotlib.pyplot as plt\n",
    "import glob\n",
    "import re\n",
    "from datetime import datetime\n",
    "from dateutil import parser\n",
    "import dateutil.parser\n",
    "from scipy.io import savemat\n",
    "\n",
    "import numpy as np\n",
    "import scipy.misc\n",
    "import numpy.random as rng\n",
    "from PIL import Image, ImageDraw, ImageFont\n",
    "from sklearn.utils import shuffle\n",
    "import nibabel as nib #reading MR images\n",
    "import math\n",
    "from matplotlib import pyplot as plt"
   ]
  },
  {
   "cell_type": "code",
   "execution_count": 2,
   "id": "f20fbe47-e2b1-41dd-acd4-e40499e960df",
   "metadata": {},
   "outputs": [],
   "source": [
    "from sklearn import svm\n",
    "from sklearn.model_selection import train_test_split\n",
    "from sklearn.metrics import accuracy_score, classification_report\n",
    "import shap"
   ]
  },
  {
   "cell_type": "code",
   "execution_count": 3,
   "id": "e7bf8831-8e9a-4423-8956-8195881f2f46",
   "metadata": {},
   "outputs": [
    {
     "ename": "TypeError",
     "evalue": "The passed model is not callable and cannot be analyzed directly with the given masker! Model: SVR(kernel='poly')",
     "output_type": "error",
     "traceback": [
      "\u001b[0;31m---------------------------------------------------------------------------\u001b[0m",
      "\u001b[0;31mTypeError\u001b[0m                                 Traceback (most recent call last)",
      "Cell \u001b[0;32mIn[3], line 18\u001b[0m\n\u001b[1;32m     14\u001b[0m svm_regressor\u001b[38;5;241m.\u001b[39mfit(X_train, y_train)\n\u001b[1;32m     16\u001b[0m y_pred \u001b[38;5;241m=\u001b[39m svm_regressor\u001b[38;5;241m.\u001b[39mpredict(X_test)\n\u001b[0;32m---> 18\u001b[0m explainer \u001b[38;5;241m=\u001b[39m \u001b[43mshap\u001b[49m\u001b[38;5;241;43m.\u001b[39;49m\u001b[43mExplainer\u001b[49m\u001b[43m(\u001b[49m\u001b[43msvm_regressor\u001b[49m\u001b[43m,\u001b[49m\u001b[43m \u001b[49m\u001b[43mX_train\u001b[49m\u001b[43m)\u001b[49m\n\u001b[1;32m     19\u001b[0m shap_values \u001b[38;5;241m=\u001b[39m explainer\u001b[38;5;241m.\u001b[39mshap_values(X_test)\n\u001b[1;32m     21\u001b[0m \u001b[38;5;66;03m# Summary plot to show feature importance\u001b[39;00m\n",
      "File \u001b[0;32m/opt/conda/lib/python3.10/site-packages/shap/explainers/_explainer.py:174\u001b[0m, in \u001b[0;36mExplainer.__init__\u001b[0;34m(self, model, masker, link, algorithm, output_names, feature_names, linearize_link, seed, **kwargs)\u001b[0m\n\u001b[1;32m    170\u001b[0m             algorithm \u001b[38;5;241m=\u001b[39m \u001b[38;5;124m\"\u001b[39m\u001b[38;5;124mpermutation\u001b[39m\u001b[38;5;124m\"\u001b[39m\n\u001b[1;32m    172\u001b[0m     \u001b[38;5;66;03m# if we get here then we don't know how to handle what was given to us\u001b[39;00m\n\u001b[1;32m    173\u001b[0m     \u001b[38;5;28;01melse\u001b[39;00m:\n\u001b[0;32m--> 174\u001b[0m         \u001b[38;5;28;01mraise\u001b[39;00m \u001b[38;5;167;01mTypeError\u001b[39;00m(\u001b[38;5;124m\"\u001b[39m\u001b[38;5;124mThe passed model is not callable and cannot be analyzed directly with the given masker! Model: \u001b[39m\u001b[38;5;124m\"\u001b[39m \u001b[38;5;241m+\u001b[39m \u001b[38;5;28mstr\u001b[39m(model))\n\u001b[1;32m    176\u001b[0m \u001b[38;5;66;03m# build the right subclass\u001b[39;00m\n\u001b[1;32m    177\u001b[0m \u001b[38;5;28;01mif\u001b[39;00m algorithm \u001b[38;5;241m==\u001b[39m \u001b[38;5;124m\"\u001b[39m\u001b[38;5;124mexact\u001b[39m\u001b[38;5;124m\"\u001b[39m:\n",
      "\u001b[0;31mTypeError\u001b[0m: The passed model is not callable and cannot be analyzed directly with the given masker! Model: SVR(kernel='poly')"
     ]
    }
   ],
   "source": [
    "DATASET = 'Dataset3.0.csv'\n",
    "dataset = pd.read_csv(DATASET)\n",
    "dataset['Sex'] = dataset['Sex'].replace({'M': 1, 'F': 0})\n",
    "lipids_only = dataset.iloc[:, 54:837]\n",
    "columns_to_drop = ['LHC_ICV', 'RHC_ICV']\n",
    "X = lipids_only.drop(columns=columns_to_drop, axis=1)\n",
    "y = lipids_only['LHC_ICV']\n",
    "\n",
    "feature_names=X.columns.tolist()\n",
    "X_train, X_test, y_train, y_test = train_test_split(X, y, test_size=0.2, random_state=42)\n",
    "\n",
    "svm_regressor = svm.SVR(kernel='poly') \n",
    "\n",
    "svm_regressor.fit(X_train, y_train)\n",
    "\n",
    "y_pred = svm_regressor.predict(X_test)\n",
    "\n",
    "explainer = shap.Explainer(svm_regressor, X_train)\n",
    "shap_values = explainer.shap_values(X_test)\n",
    "\n",
    "# Summary plot to show feature importance\n",
    "shap.summary_plot(shap_values, X_test, feature_names=feature_names)\n",
    "\n",
    "# Individual SHAP value plot for a specific instance (adjust index accordingly)\n",
    "shap.force_plot(explainer.expected_value, shap_values[0, :], X_test.iloc[0, :], feature_names=feature_names)\n",
    "\n",
    "plt.show()"
   ]
  },
  {
   "cell_type": "code",
   "execution_count": null,
   "id": "c456a261-179d-43cf-be20-4cbf3515f594",
   "metadata": {},
   "outputs": [],
   "source": []
  }
 ],
 "metadata": {
  "kernelspec": {
   "display_name": "Python 3 (ipykernel)",
   "language": "python",
   "name": "python3"
  },
  "language_info": {
   "codemirror_mode": {
    "name": "ipython",
    "version": 3
   },
   "file_extension": ".py",
   "mimetype": "text/x-python",
   "name": "python",
   "nbconvert_exporter": "python",
   "pygments_lexer": "ipython3",
   "version": "3.10.12"
  }
 },
 "nbformat": 4,
 "nbformat_minor": 5
}
