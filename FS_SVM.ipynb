{
 "cells": [
  {
   "cell_type": "code",
   "execution_count": 2,
   "metadata": {},
   "outputs": [],
   "source": [
    "from sklearn.inspection import permutation_importance\n",
    "import numpy as np\n",
    "import matplotlib.pyplot as plt\n",
    "from sklearn import svm\n",
    "import pandas as pd\n",
    "from sklearn.svm import SVR\n",
    "from sklearn.model_selection import train_test_split\n",
    "from sklearn.metrics import mean_squared_error"
   ]
  },
  {
   "cell_type": "markdown",
   "metadata": {},
   "source": [
    "# SVM's with Feature Selection"
   ]
  },
  {
   "cell_type": "markdown",
   "metadata": {},
   "source": [
    "## Lipids Only"
   ]
  },
  {
   "cell_type": "markdown",
   "metadata": {},
   "source": [
    "### Linear"
   ]
  },
  {
   "cell_type": "code",
   "execution_count": 2,
   "metadata": {},
   "outputs": [
    {
     "name": "stdout",
     "output_type": "stream",
     "text": [
      "PC.P.17.0.20.4...A.: nan\n",
      "PC.P.17.0.20.4...B.: nan\n",
      "PC.P.18.0.18.2.: nan\n",
      "PC.O.34.1.: nan\n",
      "PC.36.4....OH.: nan\n"
     ]
    },
    {
     "name": "stderr",
     "output_type": "stream",
     "text": [
      "C:\\Users\\ciara\\AppData\\Local\\Temp\\ipykernel_16460\\2056939408.py:16: RuntimeWarning: invalid value encountered in divide\n",
      "  perm_importance_normalized = perm_importance.importances_mean/perm_importance.importances_mean.sum()\n"
     ]
    }
   ],
   "source": [
    "DATASET = 'Dataset2.0.csv'\n",
    "dataset = pd.read_csv(DATASET)\n",
    "dataset['Sex'] = dataset['Sex'].replace({'M': 1, 'F': 0})\n",
    "lipids_only = dataset.iloc[:, 54:837]\n",
    "columns_to_drop = ['LHC_ICV', 'RHC_ICV']\n",
    "X = lipids_only.drop(columns=columns_to_drop, axis=1)\n",
    "y = lipids_only['LHC_ICV']\n",
    "\n",
    "svm = SVR(kernel='linear')\n",
    "svm.fit(X, y)\n",
    "\n",
    "perm_importance = permutation_importance(svm, X, y)\n",
    "\n",
    "# Making the sum of feature importance being equal to 1.0,\n",
    "# so feature importance can be understood as percentage\n",
    "perm_importance_normalized = perm_importance.importances_mean/perm_importance.importances_mean.sum()\n",
    "\n",
    "# Feature's name (considering your X a DataFrame)\n",
    "feature_names = X.columns\n",
    "features = np.array(feature_names)\n",
    "\n",
    "# Sort to plot in order of importance\n",
    "sorted_idx = perm_importance_normalized.argsort()\n",
    "\n",
    "top_features = features[sorted_idx][-5:]\n",
    "top_scores = perm_importance_normalized[sorted_idx][-5:]\n",
    "\n",
    "for feature, score in zip(top_features, top_scores):\n",
    "    print(f\"{feature}: {score:.4f}\")"
   ]
  },
  {
   "cell_type": "markdown",
   "metadata": {},
   "source": [
    "### Polynomial"
   ]
  },
  {
   "cell_type": "code",
   "execution_count": 3,
   "metadata": {},
   "outputs": [
    {
     "name": "stdout",
     "output_type": "stream",
     "text": [
      "Features with Importance above 0.20:\n",
      "Original Mean Squared Error: 0.00\n"
     ]
    },
    {
     "name": "stderr",
     "output_type": "stream",
     "text": [
      "C:\\Users\\ciara\\AppData\\Local\\Temp\\ipykernel_6596\\3169277936.py:17: RuntimeWarning: invalid value encountered in divide\n",
      "  perm_importance_normalized = perm_importance.importances_mean/perm_importance.importances_mean.sum()\n"
     ]
    }
   ],
   "source": [
    "DATASET = 'Dataset2.0.csv'\n",
    "dataset = pd.read_csv(DATASET)\n",
    "dataset['Sex'] = dataset['Sex'].replace({'M': 1, 'F': 0})\n",
    "lipids_only = dataset.iloc[:, 54:837]\n",
    "columns_to_drop = ['LHC_ICV', 'RHC_ICV']\n",
    "X = lipids_only.drop(columns=columns_to_drop, axis=1)\n",
    "y = lipids_only['LHC_ICV']\n",
    "X_train, X_test, y_train, y_test = train_test_split(X, y, test_size=0.2, random_state=42)\n",
    "\n",
    "svm = SVR(kernel='poly')\n",
    "svm.fit(X_train, y_train)\n",
    "\n",
    "perm_importance = permutation_importance(svm, X_test, y_test)\n",
    "\n",
    "# Making the sum of feature importance being equal to 1.0,\n",
    "# so feature importance can be understood as percentage\n",
    "perm_importance_normalized = perm_importance.importances_mean/perm_importance.importances_mean.sum()\n",
    "\n",
    "# Feature's name (considering your X a DataFrame)\n",
    "feature_names = X.columns\n",
    "features = np.array(feature_names)\n",
    "\n",
    "# Sort to plot in order of importance\n",
    "sorted_idx = perm_importance_normalized.argsort()\n",
    "\n",
    "top_features = features[sorted_idx][-5:]\n",
    "top_scores = perm_importance_normalized[sorted_idx][-5:]\n",
    "\n",
    "for feature, score in zip(top_features, top_scores):\n",
    "    print(f\"{feature}: {score:.4f}\")"
   ]
  },
  {
   "cell_type": "markdown",
   "metadata": {},
   "source": [
    "### RBF (Gaussian)"
   ]
  },
  {
   "cell_type": "code",
   "execution_count": null,
   "metadata": {},
   "outputs": [],
   "source": [
    "DATASET = 'Dataset2.0.csv'\n",
    "dataset = pd.read_csv(DATASET)\n",
    "dataset['Sex'] = dataset['Sex'].replace({'M': 1, 'F': 0})\n",
    "lipids_only = dataset.iloc[:, 54:837]\n",
    "columns_to_drop = ['LHC_ICV', 'RHC_ICV']\n",
    "X = lipids_only.drop(columns=columns_to_drop, axis=1)\n",
    "y = lipids_only['LHC_ICV']\n",
    "\n",
    "svm = SVR(kernel='rbf', gamma='auto')\n",
    "svm.fit(X, y)\n",
    "\n",
    "perm_importance = permutation_importance(svm, X, y)\n",
    "\n",
    "# Making the sum of feature importance being equal to 1.0,\n",
    "# so feature importance can be understood as percentage\n",
    "perm_importance_normalized = perm_importance.importances_mean/perm_importance.importances_mean.sum()\n",
    "\n",
    "# Feature's name (considering your X a DataFrame)\n",
    "feature_names = X.columns\n",
    "features = np.array(feature_names)\n",
    "\n",
    "# Sort to plot in order of importance\n",
    "sorted_idx = perm_importance_normalized.argsort()\n",
    "\n",
    "top_features = features[sorted_idx][-5:]\n",
    "top_scores = perm_importance_normalized[sorted_idx][-5:]\n",
    "\n",
    "for feature, score in zip(top_features, top_scores):\n",
    "    print(f\"{feature}: {score:.4f}\")"
   ]
  },
  {
   "cell_type": "markdown",
   "metadata": {},
   "source": [
    "### Sigmoid"
   ]
  },
  {
   "cell_type": "code",
   "execution_count": null,
   "metadata": {},
   "outputs": [],
   "source": [
    "DATASET = 'Dataset2.0.csv'\n",
    "dataset = pd.read_csv(DATASET)\n",
    "dataset['Sex'] = dataset['Sex'].replace({'M': 1, 'F': 0})\n",
    "lipids_only = dataset.iloc[:, 54:837]\n",
    "columns_to_drop = ['LHC_ICV', 'RHC_ICV']\n",
    "X = lipids_only.drop(columns=columns_to_drop, axis=1)\n",
    "y = lipids_only['LHC_ICV']\n",
    "\n",
    "svm = SVR(kernel='sigmoid', gamma='auto')\n",
    "svm.fit(X, y)\n",
    "\n",
    "perm_importance = permutation_importance(svm, X, y)\n",
    "\n",
    "# Making the sum of feature importance being equal to 1.0,\n",
    "# so feature importance can be understood as percentage\n",
    "perm_importance_normalized = perm_importance.importances_mean/perm_importance.importances_mean.sum()\n",
    "\n",
    "# Feature's name (considering your X a DataFrame)\n",
    "feature_names = X.columns\n",
    "features = np.array(feature_names)\n",
    "\n",
    "# Sort to plot in order of importance\n",
    "sorted_idx = perm_importance_normalized.argsort()\n",
    "\n",
    "top_features = features[sorted_idx][-5:]\n",
    "top_scores = perm_importance_normalized[sorted_idx][-5:]\n",
    "\n",
    "for feature, score in zip(top_features, top_scores):\n",
    "    print(f\"{feature}: {score:.4f}\")"
   ]
  }
 ],
 "metadata": {
  "kernelspec": {
   "display_name": "Monai",
   "language": "python",
   "name": "python3"
  },
  "language_info": {
   "codemirror_mode": {
    "name": "ipython",
    "version": 3
   },
   "file_extension": ".py",
   "mimetype": "text/x-python",
   "name": "python",
   "nbconvert_exporter": "python",
   "pygments_lexer": "ipython3",
   "version": "3.8.16"
  }
 },
 "nbformat": 4,
 "nbformat_minor": 2
}
