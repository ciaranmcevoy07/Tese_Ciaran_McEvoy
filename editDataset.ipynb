{
 "cells": [
  {
   "cell_type": "code",
   "execution_count": 11,
   "metadata": {},
   "outputs": [],
   "source": [
    "import os\n",
    "import copy\n",
    "import time\n",
    "import random\n",
    "import numpy as np\n",
    "import pandas as pd\n",
    "import seaborn as sns\n",
    "import scipy.io\n",
    "import matplotlib.pyplot as plt\n",
    "import glob\n",
    "import re\n",
    "from datetime import datetime\n",
    "from dateutil import parser\n",
    "import dateutil.parser\n",
    "from scipy.io import savemat\n",
    "\n",
    "import numpy as np\n",
    "import scipy.misc\n",
    "import numpy.random as rng\n",
    "from PIL import Image, ImageDraw, ImageFont\n",
    "from sklearn.utils import shuffle\n",
    "import nibabel as nib #reading MR images\n",
    "import math\n",
    "from matplotlib import pyplot as plt\n",
    "import statistics"
   ]
  },
  {
   "cell_type": "code",
   "execution_count": 2,
   "metadata": {},
   "outputs": [],
   "source": [
    "FREESURFER_A_USAR = 'freesurfer_cross_long_a_usar.csv'\n",
    "ASEG_STATS = 'aseg_stats.csv'\n",
    "LIPIDOMICS = 'lipidomics_v3.csv'\n",
    "NAO_PROCESSADOS = 'nao_processados_a_usar_melhores_expandido.csv'\n",
    "ASEG_STATS_TEST = 'aseg_stats_test.csv'\n",
    "ASEG_STATS_BL_SC = 'aseg_stats_bl_sc.csv'\n",
    "DATASET = 'DatasetPro4.0.csv'\n",
    "MMSE = 'MMSE.csv'"
   ]
  },
  {
   "cell_type": "code",
   "execution_count": null,
   "metadata": {},
   "outputs": [],
   "source": [
    "freesurfer_a_usar = pd.read_csv(FREESURFER_A_USAR)\n",
    "aseg_stats = pd.read_csv(ASEG_STATS)\n",
    "for index, row in freesurfer_a_usar.iterrows():\n",
    "    for index1, row1 in aseg_stats.iterrows():\n",
    "        match1 = re.search(row['Subject'], row1['Measure:volume'])\n",
    "        match2 = re.search(row['Visit'], row1['Measure:volume'])\n",
    "        if match1 and match2:\n",
    "            aseg_stats.at[index1, 'RID'] = row['RID']\n",
    "            aseg_stats.at[index1, 'VISCODE'] = row['Visit']\n",
    "            print(aseg_stats.loc[index1, 'RID'])\n",
    "\n",
    "aseg_stats.to_csv('aseg_stats_new_new.csv', index=False)"
   ]
  },
  {
   "cell_type": "code",
   "execution_count": 31,
   "metadata": {},
   "outputs": [],
   "source": [
    "aseg_stats = pd.read_csv(ASEG_STATS)\n",
    "rid = aseg_stats.pop('RID')\n",
    "visit = aseg_stats.pop('VISCODE')\n",
    "aseg_stats.insert(0, 'RID', rid)\n",
    "aseg_stats.insert(1, 'VISCODE', visit)\n",
    "aseg_stats = aseg_stats.drop('Measure:volume', axis=1)\n",
    "aseg_stats = aseg_stats.sort_values(by='RID')\n",
    "aseg_stats.to_csv('aseg_stats_newest.csv', index=False)"
   ]
  },
  {
   "cell_type": "code",
   "execution_count": null,
   "metadata": {},
   "outputs": [],
   "source": [
    "mrimerge = pd.read_csv('mriinfomerge.csv')\n",
    "freesurfer_a_usar = pd.read_csv(FREESURFER_A_USAR)\n",
    "for index, row in freesurfer_a_usar.iterrows():\n",
    "    for index1, row1 in mrimerge.iterrows():\n",
    "        if row['RID'] == row1['RID'] and row['VISCODE'] == row1['VISCODE']:\n",
    "            mrimerge.at[index1, 'Age'] = row['Age']\n",
    "            mrimerge.at[index1, 'Image Data ID'] = row['Image Data ID']\n",
    "            mrimerge.at[index1, 'VISCODE'] = row['VISCODE']\n",
    "            mrimerge.at[index1, 'Subject'] = row['Subject']\n",
    "            mrimerge.at[index1, 'Sex'] = row['Sex']\n",
    "            mrimerge.at[index1, 'Group'] = row['Group']\n",
    "            mrimerge.at[index1, 'Acq Date'] = row['Acq Date']\n",
    "            print(mrimerge.loc[index1, 'RID'])\n",
    "\n",
    "mrimerge.to_csv('mrimergenew.csv', index=False)"
   ]
  },
  {
   "cell_type": "code",
   "execution_count": 18,
   "metadata": {},
   "outputs": [],
   "source": [
    "lista = []\n",
    "mrimerge = pd.read_csv('mrimergenew.csv')\n",
    "for index, row in mrimerge.iterrows():\n",
    "    if row['VISCODE'] == 'sc' or row['VISCODE'] == 'bl':\n",
    "        if row['RID'] in lista:\n",
    "            mrimerge = mrimerge.drop(index, axis=0)\n",
    "        else:\n",
    "            lista.append(row['RID'])\n",
    "mrimerge = mrimerge.drop(columns=['Image Data ID', 'Subject', 'Description', 'freesurfer'])\n",
    "age = mrimerge.pop('Age')\n",
    "sex = mrimerge.pop('Sex')\n",
    "group = mrimerge.pop('Group')\n",
    "mridate = mrimerge.pop('Acq Date')\n",
    "mrimerge.insert(2, 'Age', age)\n",
    "mrimerge.insert(3, 'Sex', sex)\n",
    "mrimerge.insert(4, 'Group', group)\n",
    "mrimerge.insert(5, 'Acq Date', mridate)\n",
    "mrimerge.to_csv('aseg_stats_bl_sc.csv', index=False)"
   ]
  },
  {
   "cell_type": "code",
   "execution_count": 7,
   "metadata": {},
   "outputs": [],
   "source": [
    "aseg_stats_bl_sc = pd.read_csv(ASEG_STATS_BL_SC)\n",
    "lipidomics = pd.read_csv(LIPIDOMICS)\n",
    "aseg_stats_bl_sc.replace({'sc':'bl'}, inplace=True)\n",
    "merged_df = pd.merge(aseg_stats_bl_sc, lipidomics, on=['RID', 'VISCODE'], how='inner')\n",
    "merged_df = merged_df.drop_duplicates(subset=['RID', 'VISCODE'])\n",
    "lipidomics_date = merged_df.pop('EXAMDATE')\n",
    "viscode2 = merged_df.pop('VISCODE2')\n",
    "merged_df.insert(6, 'EXAMDATE', lipidomics_date)\n",
    "merged_df.insert(7, 'VISCODE2', viscode2)\n",
    "merged_df.to_csv('merged.csv', index=False)"
   ]
  },
  {
   "cell_type": "code",
   "execution_count": 6,
   "metadata": {},
   "outputs": [],
   "source": [
    "merged = pd.read_csv('merged.csv')\n",
    "merged = merged.sort_values(by=['RID', 'Exam_Date'], ascending=[True, True])\n",
    "merged.to_csv('merged_final.csv', index=False)"
   ]
  },
  {
   "cell_type": "markdown",
   "metadata": {},
   "source": [
    "### Total Intracranial Volume Ratio"
   ]
  },
  {
   "cell_type": "code",
   "execution_count": null,
   "metadata": {},
   "outputs": [],
   "source": [
    "dataset = pd.read_csv(DATASET)\n",
    "dataset['LHC_ICV'] = None\n",
    "dataset['RHC_ICV'] = None\n",
    "for index, row in dataset.iterrows():\n",
    "        l = round(row['Left-Hippocampus']/row['EstimatedTotalIntraCranialVol'],9)\n",
    "        r = round(row['Right-Hippocampus']/row['EstimatedTotalIntraCranialVol'],9)\n",
    "        dataset.at[index, 'LHC_ICV'] = l\n",
    "        dataset.at[index, 'RHC_ICV'] = r\n",
    "        print(dataset.loc[index, 'RID'])\n",
    "\n",
    "dataset.to_csv('DatasetPro2.0.csv', index=False)"
   ]
  },
  {
   "cell_type": "markdown",
   "metadata": {},
   "source": [
    "### Add MMSE Values to Dataset"
   ]
  },
  {
   "cell_type": "code",
   "execution_count": null,
   "metadata": {},
   "outputs": [],
   "source": [
    "dataset = pd.read_csv('DatasetPro2.0.csv')\n",
    "mmse = pd.read_csv(MMSE)\n",
    "dataset['MMSE'] = None\n",
    "for index, row in dataset.iterrows():\n",
    "    for index2, row2 in mmse.iterrows():\n",
    "        if (row['RID'] == row2['RID']) and (row['VISCODE2'] == row2['VISCODE2']):\n",
    "            dataset.at[index, 'MMSE'] = row2['MMSCORE']\n",
    "            print(dataset.loc[index, 'RID'])\n",
    "dataset.to_csv('DatasetPro3.0.csv', index=False)\n"
   ]
  },
  {
   "cell_type": "markdown",
   "metadata": {},
   "source": [
    "### Normalizacao de Lipidos"
   ]
  },
  {
   "cell_type": "code",
   "execution_count": 8,
   "metadata": {},
   "outputs": [],
   "source": [
    "DATASET = 'DatasetPro3.0.csv'"
   ]
  },
  {
   "cell_type": "code",
   "execution_count": null,
   "metadata": {},
   "outputs": [],
   "source": [
    "dataset = pd.read_csv(DATASET)\n",
    "\n",
    "for index, row in dataset.iterrows():\n",
    "    total = row[dataset.columns[74:855]].sum()\n",
    "    for i in dataset.columns[74:855]:\n",
    "        new_col = i+'%mol'\n",
    "        perc_mol = (row[i]/total) * 100\n",
    "        dataset.at[index, new_col] = perc_mol\n",
    "dataset.to_csv('DatasetPro4.0.csv', index=False)    "
   ]
  },
  {
   "cell_type": "markdown",
   "metadata": {},
   "source": [
    "### MMSE Missing Values Handling"
   ]
  },
  {
   "cell_type": "code",
   "execution_count": 27,
   "metadata": {},
   "outputs": [
    {
     "name": "stdout",
     "output_type": "stream",
     "text": [
      "['AD', 'MCI', 'CN', 'EMCI', 'LMCI', 'SMC']\n",
      "22.0 26.0 29.0 29.0 26.0 29.0\n"
     ]
    }
   ],
   "source": [
    "DATASET = 'DatasetPro5.0.csv'\n",
    "dataset = pd.read_csv(DATASET)\n",
    "\n",
    "group_items = []\n",
    "for index, row in dataset.iterrows():\n",
    "    if row['Group'] not in group_items:\n",
    "        group_items.append(row['Group'])\n",
    "print(group_items)\n",
    "\n",
    "#---------------------------------------------------------------------------------------------------------------\n",
    "valuesAD = dataset.loc[dataset['Group'] == 'AD', 'MMSE'].tolist()\n",
    "ad = [x for x in valuesAD if not np.isnan(x)]\n",
    "median_value_ad = statistics.median(ad)\n",
    "\n",
    "valuesMCI = dataset.loc[dataset['Group'] == 'MCI', 'MMSE'].tolist()\n",
    "mci = [x for x in valuesMCI if not np.isnan(x)]\n",
    "median_value_mci = statistics.median(mci)\n",
    "\n",
    "valuesCN = dataset.loc[dataset['Group'] == 'CN', 'MMSE'].tolist()\n",
    "cn = [x for x in valuesCN if not np.isnan(x)]\n",
    "median_value_cn = statistics.median(cn)\n",
    "\n",
    "valuesEMCI = dataset.loc[dataset['Group'] == 'EMCI', 'MMSE'].tolist()\n",
    "emci = [x for x in valuesEMCI if not np.isnan(x)]\n",
    "median_value_emci = statistics.median(emci)\n",
    "\n",
    "valuesLMCI = dataset.loc[dataset['Group'] == 'LMCI', 'MMSE'].tolist()\n",
    "lmci = [x for x in valuesLMCI if not np.isnan(x)]\n",
    "median_value_lmci = statistics.median(lmci)\n",
    "\n",
    "valuesSMC = dataset.loc[dataset['Group'] == 'SMC', 'MMSE'].tolist()\n",
    "smc = [x for x in valuesSMC if not np.isnan(x)]\n",
    "median_value_smc = statistics.median(smc)\n",
    "\n",
    "print(median_value_ad,median_value_mci,median_value_cn,median_value_emci,median_value_lmci,median_value_smc)\n",
    "\n",
    "#-----------------------------------------------------------------------------------------------------------\n",
    "\n",
    "dataset.loc[dataset['Group'] == 'AD', 'MMSE'] = dataset.loc[dataset['Group'] == 'AD', 'MMSE'].fillna(median_value_ad)\n",
    "dataset.loc[dataset['Group'] == 'MCI', 'MMSE'] = dataset.loc[dataset['Group'] == 'MCI', 'MMSE'].fillna(median_value_mci)\n",
    "dataset.loc[dataset['Group'] == 'CN', 'MMSE'] = dataset.loc[dataset['Group'] == 'CN', 'MMSE'].fillna(median_value_cn)\n",
    "dataset.loc[dataset['Group'] == 'EMCI', 'MMSE'] = dataset.loc[dataset['Group'] == 'EMCI', 'MMSE'].fillna(median_value_emci)\n",
    "dataset.loc[dataset['Group'] == 'lmci', 'MMSE'] = dataset.loc[dataset['Group'] == 'lmci', 'MMSE'].fillna(median_value_lmci)\n",
    "dataset.loc[dataset['Group'] == 'SMC', 'MMSE'] = dataset.loc[dataset['Group'] == 'SMC', 'MMSE'].fillna(median_value_smc)\n",
    "dataset.to_csv('DatasetPro6.0.csv', index=False)  "
   ]
  }
 ],
 "metadata": {
  "kernelspec": {
   "display_name": "Monai",
   "language": "python",
   "name": "python3"
  },
  "language_info": {
   "codemirror_mode": {
    "name": "ipython",
    "version": 3
   },
   "file_extension": ".py",
   "mimetype": "text/x-python",
   "name": "python",
   "nbconvert_exporter": "python",
   "pygments_lexer": "ipython3",
   "version": "3.8.16"
  }
 },
 "nbformat": 4,
 "nbformat_minor": 2
}
